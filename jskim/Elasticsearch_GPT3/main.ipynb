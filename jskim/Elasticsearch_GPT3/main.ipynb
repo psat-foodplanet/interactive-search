{
 "cells": [
  {
   "cell_type": "code",
   "execution_count": 1,
   "metadata": {},
   "outputs": [],
   "source": [
    "from es_gpt_test import es_gpt\n"
   ]
  },
  {
   "cell_type": "code",
   "execution_count": 2,
   "metadata": {},
   "outputs": [],
   "source": [
    "test = es_gpt(\"1231231\")"
   ]
  },
  {
   "cell_type": "code",
   "execution_count": 3,
   "metadata": {},
   "outputs": [
    {
     "name": "stdout",
     "output_type": "stream",
     "text": [
      "인덱스 생성 완료\n"
     ]
    }
   ],
   "source": [
    "test.make_index({'title': 'Example Document', 'content': 'This is an example document.'})"
   ]
  },
  {
   "cell_type": "code",
   "execution_count": 4,
   "metadata": {},
   "outputs": [
    {
     "data": {
      "text/plain": [
       "[{'_index': 'my_index',\n",
       "  '_type': '_doc',\n",
       "  '_id': 'AqG9IIgBQfBd00x0MjFK',\n",
       "  '_score': 0.2876821,\n",
       "  '_source': {'title': 'Example Document',\n",
       "   'content': 'This is an example document.'}}]"
      ]
     },
     "execution_count": 4,
     "metadata": {},
     "output_type": "execute_result"
    }
   ],
   "source": [
    "test.search_es(\"example\")"
   ]
  }
 ],
 "metadata": {
  "kernelspec": {
   "display_name": "coop",
   "language": "python",
   "name": "cooop"
  },
  "language_info": {
   "codemirror_mode": {
    "name": "ipython",
    "version": 3
   },
   "file_extension": ".py",
   "mimetype": "text/x-python",
   "name": "python",
   "nbconvert_exporter": "python",
   "pygments_lexer": "ipython3",
   "version": "3.8.16"
  },
  "orig_nbformat": 4
 },
 "nbformat": 4,
 "nbformat_minor": 2
}
